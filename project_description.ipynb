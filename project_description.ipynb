{
  "cells": [
    {
      "cell_type": "markdown",
      "metadata": {
        "collapsed": true,
        "pycharm": {
          "name": "#%% md\n"
        }
      },
      "source": "# Grand project for the next classes\n\nO arquivo implementa um Jogo Estocático baseado em uma simplificação do Poker para até N jogadores, usarei 3 jogadores para exemplificar.\nNesse jogo cada jogador recebe aleátoriamente uma carta do baralho. Em seguida cada uma pode escolher 1 entre 2 ações (fold, bet).\nGanha 0 pontos todos que escolherem FOLD, 10 o que escolher BET e tiver a maior carta e -5 os que escolherem BET e tiverem as menores cartas.\n\nO payoff é representado na tabela abaixo. Considere que as cartas de A \u003e B \u003e C.\n\nC (FOLD)\n\n| #       | B(FOLD)     | B(BET)     |\n|---------|-------------|------------|\n| A(FOLD) |  0, 0, 0    |  0, 10, 0  | \n| A(BET)  |  10, 0 , 0  |  10, -5, 0 | \n\nC (BET)\n\n| #       | B(FOLD)     | B(BET)      |\n|---------|-------------|-------------|\n| A(FOLD) |  0, 0, 10   |  0, 10, -5  | \n| A(BET)  |  10, 0 , -5 |  10, -5, -5 |  \n\n\nO Jogo não possui equilibrio com todos os jogadores utilizando estratégias puras.\nTambém, se C jogar uma estratégia pura, não há equilíbrio com estratégias mistas entre o jogador A e o jogador B.\n\n"
    }
  ],
  "metadata": {
    "language_info": {
      "codemirror_mode": {
        "name": "ipython",
        "version": 2
      },
      "file_extension": ".py",
      "mimetype": "text/x-python",
      "name": "python",
      "nbconvert_exporter": "python",
      "pygments_lexer": "ipython2",
      "version": "2.7.6"
    },
    "kernelspec": {
      "name": "python3",
      "language": "python",
      "display_name": "Python 3"
    }
  },
  "nbformat": 4,
  "nbformat_minor": 0
}